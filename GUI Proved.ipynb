{
 "cells": [
  {
   "cell_type": "code",
   "execution_count": 1,
   "id": "914d9c42",
   "metadata": {},
   "outputs": [],
   "source": [
    "import os\n",
    "import PIL\n",
    "import cv2\n",
    "import glob\n",
    "import numpy as np\n",
    "from tkinter import *\n",
    "from PIL import Image, ImageDraw, ImageGrab"
   ]
  },
  {
   "cell_type": "code",
   "execution_count": 2,
   "id": "1aa7a285",
   "metadata": {},
   "outputs": [
    {
     "name": "stdout",
     "output_type": "stream",
     "text": [
      "Model loaded successfully\n"
     ]
    }
   ],
   "source": [
    "from keras.models import load_model\n",
    "model = load_model('mnist.h5')\n",
    "print(\"Model loaded successfully\")\n"
   ]
  },
  {
   "cell_type": "code",
   "execution_count": 3,
   "id": "5cf6d9b3",
   "metadata": {},
   "outputs": [],
   "source": [
    "import tkinter as tk\n",
    "import numpy as np\n",
    "import cv2"
   ]
  },
  {
   "cell_type": "code",
   "execution_count": 4,
   "id": "6b4a44bd",
   "metadata": {},
   "outputs": [],
   "source": [
    "from PIL import ImageTk,Image,ImageDraw"
   ]
  },
  {
   "cell_type": "code",
   "execution_count": 5,
   "id": "9005f690",
   "metadata": {},
   "outputs": [],
   "source": [
    "from keras.models import Sequential\n",
    "from keras.layers import Dense,Flatten\n"
   ]
  },
  {
   "cell_type": "code",
   "execution_count": 6,
   "id": "874bcc8a",
   "metadata": {},
   "outputs": [],
   "source": [
    "model=Sequential()"
   ]
  },
  {
   "cell_type": "code",
   "execution_count": 7,
   "id": "0abb1db1",
   "metadata": {},
   "outputs": [],
   "source": [
    "model.add(Flatten(input_shape=(28,28)))\n"
   ]
  },
  {
   "cell_type": "code",
   "execution_count": 8,
   "id": "60c53c75",
   "metadata": {},
   "outputs": [],
   "source": [
    "model.add(Dense(512,activation='relu'))\n",
    "model.add(Dense(256,activation='relu'))\n",
    "model.add(Dense(128,activation='relu'))\n",
    "model.add(Dense(64,activation='relu'))\n",
    "model.add(Dense(10,activation='softmax'))"
   ]
  },
  {
   "cell_type": "code",
   "execution_count": 9,
   "id": "c2147045",
   "metadata": {},
   "outputs": [],
   "source": [
    "model.compile(loss='categorical_crossentropy',optimizer='adam',metrics=['accuracy'])\n",
    "\n"
   ]
  },
  {
   "cell_type": "code",
   "execution_count": 10,
   "id": "ad97bca5",
   "metadata": {},
   "outputs": [],
   "source": [
    "def event_function(event):\n",
    "    \n",
    "    x=event.x\n",
    "    y=event.y\n",
    "    \n",
    "    x1=x-30\n",
    "    y1=y-30\n",
    "    \n",
    "    x2=x+30\n",
    "    y2=y+30\n",
    "\n",
    "    canvas.create_oval((x1,y1,x2,y2),fill='black')\n",
    "    img_draw.ellipse((x1,y1,x2,y2),fill='white')"
   ]
  },
  {
   "cell_type": "code",
   "execution_count": 11,
   "id": "d9925af6",
   "metadata": {},
   "outputs": [],
   "source": [
    "def save():\n",
    "    \n",
    "    global count\n",
    "    \n",
    "    img_array=np.array(img)\n",
    "    img_array=cv2.resize(img_array,(28,28))\n",
    "    \n",
    "    cv2.imwrite(str(count)+'.jpg',img_array)\n",
    "    count=count+1"
   ]
  },
  {
   "cell_type": "code",
   "execution_count": 12,
   "id": "3b23d3a2",
   "metadata": {},
   "outputs": [],
   "source": [
    "def clear():\n",
    "    \n",
    "    global img,img_draw\n",
    "    \n",
    "    canvas.delete('all')\n",
    "    img=Image.new('RGB',(500,500),(0,0,0))\n",
    "    img_draw=ImageDraw.Draw(img)    \n",
    "    \n",
    "    label_status.config(text='PREDICTED DIGIT: NONE')"
   ]
  },
  {
   "cell_type": "code",
   "execution_count": 13,
   "id": "7f23c840",
   "metadata": {},
   "outputs": [],
   "source": [
    "def predict():\n",
    "    \n",
    "    img_array=np.array(img)\n",
    "    img_array=cv2.cvtColor(img_array,cv2.COLOR_BGR2GRAY)\n",
    "    img_array=cv2.resize(img_array,(28,28))\n",
    "    \n",
    "    img_array=img_array/255.0\n",
    "    img_array=img_array.reshape(1,28,28)\n",
    "    result=model.predict(img_array)\n",
    "    label=np.argmax(result,axis=1)\n",
    "    \n",
    "    label_status.config(text='PREDICTED DIGIT:'+str(label))"
   ]
  },
  {
   "cell_type": "code",
   "execution_count": null,
   "id": "479a21d2",
   "metadata": {},
   "outputs": [],
   "source": [
    "count=0\n",
    "    \n",
    "win=tk.Tk()\n",
    "\n",
    "canvas=tk.Canvas(win,width=28,height=28,bg='white')\n",
    "canvas.grid(row=0,column=0,columnspan=4)\n",
    "\n",
    "\n",
    "\n",
    "button_predict=tk.Button(win,text='PREDICT',bg='blue',fg='white',font='Helvetica 20 bold',command=predict)\n",
    "button_predict.grid(row=1,column=1)\n",
    "\n",
    "button_clear=tk.Button(win,text='CLEAR',bg='yellow',fg='white',font='Helvetica 20 bold',command=clear)\n",
    "button_clear.grid(row=1,column=2)\n",
    "\n",
    "\n",
    "\n",
    "label_status=tk.Label(win,text='PREDICTED DIGIT: NONE',bg='white',font='Helvetica 24 bold')\n",
    "label_status.grid(row=2,column=0,columnspan=4)\n",
    "\n",
    "canvas.bind('<B1-Motion>',event_function)\n",
    "img=Image.new('RGB',(500,500),(0,0,0))\n",
    "img_draw=ImageDraw.Draw(img)\n",
    "\n",
    "win.mainloop()\n"
   ]
  },
  {
   "cell_type": "code",
   "execution_count": null,
   "id": "caa150ae",
   "metadata": {},
   "outputs": [],
   "source": []
  }
 ],
 "metadata": {
  "kernelspec": {
   "display_name": "Python 3 (ipykernel)",
   "language": "python",
   "name": "python3"
  },
  "language_info": {
   "codemirror_mode": {
    "name": "ipython",
    "version": 3
   },
   "file_extension": ".py",
   "mimetype": "text/x-python",
   "name": "python",
   "nbconvert_exporter": "python",
   "pygments_lexer": "ipython3",
   "version": "3.9.13"
  }
 },
 "nbformat": 4,
 "nbformat_minor": 5
}
